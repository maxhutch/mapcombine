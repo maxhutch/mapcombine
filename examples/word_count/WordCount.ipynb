{
 "cells": [
  {
   "cell_type": "markdown",
   "metadata": {},
   "source": [
    "# Word Count"
   ]
  },
  {
   "cell_type": "markdown",
   "metadata": {},
   "source": [
    "MapCombine expects three functions: \n",
    "    - Initialization \n",
    "    - Map\n",
    "    - Reduce\n",
    "The reduce is also used as thd combine."
   ]
  },
  {
   "cell_type": "markdown",
   "metadata": {},
   "source": [
    "## Initialize"
   ]
  },
  {
   "cell_type": "markdown",
   "metadata": {},
   "source": [
    "At init, set up jobs for Charles Dickens' books.\n",
    "Return the jobs list and an empty base case.\n",
    "\n",
    "For production jobs, this list would be read from meta-data or generated in a less verbose way."
   ]
  },
  {
   "cell_type": "code",
   "execution_count": 1,
   "metadata": {
    "collapsed": false
   },
   "outputs": [],
   "source": [
    "def my_init(args, params, frame):\n",
    "    from copy import deepcopy\n",
    "    ans = {\"words\" : {}}\n",
    "    base = deepcopy(ans)\n",
    "    jobs = []\n",
    "    ans[\"fname\"] = \"/tmp/Dickens/TaleOfTwoCities.txt\"\n",
    "    jobs.append(((0, 16271), params, args, deepcopy(ans)))\n",
    "    ans[\"fname\"] = \"/tmp/Dickens/ChristmasCarol.txt\"\n",
    "    jobs.append(((0, 4236), params, args, deepcopy(ans)))\n",
    "    ans[\"fname\"] = \"/tmp/Dickens/HardTimes.txt\"\n",
    "    jobs.append(((0, 12036), params, args, deepcopy(ans)))\n",
    "    ans[\"fname\"] = \"/tmp/Dickens/GreatExpectations.txt\"\n",
    "    jobs.append(((0, 20415), params, args, deepcopy(ans)))\n",
    "    ans[\"fname\"] = \"/tmp/Dickens/DavidCopperfield.txt\"\n",
    "    jobs.append(((0, 38588), params, args, deepcopy(ans)))\n",
    "    ans[\"fname\"] = \"/tmp/Dickens/BleakHouse.txt\"\n",
    "    jobs.append(((0, 40234), params, args, deepcopy(ans)))\n",
    "    ans[\"fname\"] = \"/tmp/Dickens/PickwickPapers.txt\"\n",
    "    jobs.append(((0, 36613), params, args, deepcopy(ans)))\n",
    "    ans[\"fname\"] = \"/tmp/Dickens/OliverTwist.txt\"\n",
    "    jobs.append(((0, 19202), params, args, deepcopy(ans)))\n",
    "    \n",
    "    return jobs, base"
   ]
  },
  {
   "cell_type": "markdown",
   "metadata": {},
   "source": [
    "## Map"
   ]
  },
  {
   "cell_type": "markdown",
   "metadata": {},
   "source": [
    "Map increments a counter for each word.\n",
    "The first time it is called, it opens a remote file with the glopen context manager.\n",
    "The last time it is called, it closes the context, which deletes the local copy of the file.\n",
    "\n",
    "The funny ``__enter__()`` business is because ``glopen`` is a context manager."
   ]
  },
  {
   "cell_type": "code",
   "execution_count": 2,
   "metadata": {
    "collapsed": true
   },
   "outputs": [],
   "source": [
    "import glopen\n",
    "def my_map(pos, nelm_to_read, params, ans, last):\n",
    "    if \"input_file\" not in ans:\n",
    "        ans[\"glopen\"] = glopen.glopen(ans[\"fname\"], \"r\", endpoint=\"maxhutch#alpha-admin\")\n",
    "        ans[\"input_file\"] = ans[\"glopen\"].__enter__()\n",
    "\n",
    "    for i in range(nelm_to_read):\n",
    "        line = ans[\"input_file\"].readline()\n",
    "        for tok in line.split():\n",
    "            word = tok.strip('.,;:?!_/\\\\--\"`')\n",
    "            if word in ans[\"words\"]:\n",
    "                ans[\"words\"][word] += 1\n",
    "            else:\n",
    "                ans[\"words\"][word] = 1\n",
    "\n",
    "    if last and False:\n",
    "        ans[\"glopen\"].__exit__(None, None, None)\n",
    "        del ans[\"glopen\"]\n",
    "        del ans[\"input_file\"]\n",
    "\n",
    "    return ans"
   ]
  },
  {
   "cell_type": "markdown",
   "metadata": {},
   "source": [
    "## Reduce"
   ]
  },
  {
   "cell_type": "markdown",
   "metadata": {},
   "source": [
    "Add the counts across the map outputs."
   ]
  },
  {
   "cell_type": "code",
   "execution_count": 6,
   "metadata": {
    "collapsed": true
   },
   "outputs": [],
   "source": [
    "def my_reduce(whole, part):\n",
    "    for word in part[\"words\"]:\n",
    "        if word in whole[\"words\"]:\n",
    "            whole[\"words\"][word] += part[\"words\"][word]\n",
    "        else:\n",
    "            whole[\"words\"][word]  = part[\"words\"][word]\n",
    "    return"
   ]
  },
  {
   "cell_type": "markdown",
   "metadata": {},
   "source": [
    "## Putting it all together"
   ]
  },
  {
   "cell_type": "markdown",
   "metadata": {},
   "source": [
    "Outside of an IPython Notebook, these would be set on the command line with ``argparse``."
   ]
  },
  {
   "cell_type": "code",
   "execution_count": 4,
   "metadata": {
    "collapsed": false
   },
   "outputs": [],
   "source": [
    "class Foo: pass\n",
    "args = Foo()\n",
    "\n",
    "args.MR_init = my_init\n",
    "args.map     = my_map\n",
    "args.reduce  = my_reduce\n",
    "args.thread  = 2\n",
    "args.verbose = False\n",
    "args.block   = 1024\n",
    "args.post    = None\n",
    "\n",
    "params = {}\n",
    "jobs = [(args, params, 0),]"
   ]
  },
  {
   "cell_type": "markdown",
   "metadata": {},
   "source": [
    "Here's the actual work.\n",
    "We can use any python map:\n",
    "    - map builtin\n",
    "    - IPython.Parallel.map\n",
    "    - multiprocessing.Pool.map\n",
    "    - multiprocessing.dummy.Pool.map\n",
    "    - dask.bag.map"
   ]
  },
  {
   "cell_type": "code",
   "execution_count": 5,
   "metadata": {
    "collapsed": false
   },
   "outputs": [
    {
     "name": "stdout",
     "output_type": "stream",
     "text": [
      "Charles Dickens wrote 'linen' 652 times, but 'Rotherhithe' only 3 times\n"
     ]
    }
   ],
   "source": [
    "from mapcombine import outer_process\n",
    "stuff = map(outer_process, jobs)\n",
    "for i, res in enumerate(stuff):\n",
    "    print(\"Charles Dickens wrote 'linen' {:d} times, but 'Rotherhithe' only {:d} times.\".format(\n",
    "            res[\"words\"]['linen'], res[\"words\"]['Rotherhithe']))"
   ]
  }
 ],
 "metadata": {
  "kernelspec": {
   "display_name": "Python 3",
   "language": "python",
   "name": "python3"
  },
  "language_info": {
   "codemirror_mode": {
    "name": "ipython",
    "version": 3
   },
   "file_extension": ".py",
   "mimetype": "text/x-python",
   "name": "python",
   "nbconvert_exporter": "python",
   "pygments_lexer": "ipython3",
   "version": "3.4.3"
  }
 },
 "nbformat": 4,
 "nbformat_minor": 0
}
